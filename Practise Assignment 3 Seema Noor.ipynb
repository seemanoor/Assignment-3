{
 "cells": [
  {
   "cell_type": "markdown",
   "metadata": {},
   "source": [
    "# Q1:"
   ]
  },
  {
   "cell_type": "markdown",
   "metadata": {},
   "source": [
    "Think of at least three kinds of your favorite pizza. Store these pizza names in a list, and then use a for loop to print the name of each pizza."
   ]
  },
  {
   "cell_type": "code",
   "execution_count": 12,
   "metadata": {},
   "outputs": [
    {
     "name": "stdout",
     "output_type": "stream",
     "text": [
      "Papperoni\n",
      "Chicken Fajita\n",
      "Beef Macroni\n"
     ]
    }
   ],
   "source": [
    "fav_pizza = [\"Papperoni\", \"Chicken Fajita\", \"Beef Macroni\"]\n",
    "for x in fav_pizza:\n",
    "    print(x)"
   ]
  },
  {
   "cell_type": "markdown",
   "metadata": {},
   "source": [
    "# Q2"
   ]
  },
  {
   "cell_type": "markdown",
   "metadata": {},
   "source": [
    "Start with your last question , Modify your for loop to print a sentence using the name of the pizza\n",
    "instead of printing just the name of the pizza. For each pizza you should\n",
    "have one line of output containing a simple statement like I like pepperoni\n",
    "pizza."
   ]
  },
  {
   "cell_type": "code",
   "execution_count": 14,
   "metadata": {},
   "outputs": [
    {
     "name": "stdout",
     "output_type": "stream",
     "text": [
      "i like Papperoni pizza\n",
      "i like Chicken Fajita pizza\n",
      "i like Beef Macroni pizza\n"
     ]
    }
   ],
   "source": [
    "for x in fav_pizza:\n",
    "    print(\"i like\" ,x, \"pizza\")"
   ]
  },
  {
   "cell_type": "markdown",
   "metadata": {},
   "source": [
    "# Q3:"
   ]
  },
  {
   "cell_type": "markdown",
   "metadata": {},
   "source": [
    "Use a for loop to print the numbers from 1 to 20,\n",
    "inclusive."
   ]
  },
  {
   "cell_type": "code",
   "execution_count": 18,
   "metadata": {},
   "outputs": [
    {
     "name": "stdout",
     "output_type": "stream",
     "text": [
      "1\n",
      "2\n",
      "3\n",
      "4\n",
      "5\n",
      "6\n",
      "7\n",
      "8\n",
      "9\n",
      "10\n",
      "11\n",
      "12\n",
      "13\n",
      "14\n",
      "15\n",
      "16\n",
      "17\n",
      "18\n",
      "19\n",
      "20\n"
     ]
    }
   ],
   "source": [
    "for x in range(1,21):\n",
    "    print(x)"
   ]
  },
  {
   "cell_type": "markdown",
   "metadata": {},
   "source": [
    "# Q4:"
   ]
  },
  {
   "cell_type": "markdown",
   "metadata": {},
   "source": [
    "Use the third argument of the range() function to make a list\n",
    "of the odd numbers from 1 to 20. Use a for loop to print each number."
   ]
  },
  {
   "cell_type": "code",
   "execution_count": 19,
   "metadata": {},
   "outputs": [
    {
     "name": "stdout",
     "output_type": "stream",
     "text": [
      "1\n",
      "3\n",
      "5\n",
      "7\n",
      "9\n",
      "11\n",
      "13\n",
      "15\n",
      "17\n",
      "19\n"
     ]
    }
   ],
   "source": [
    "for x in range(1,21,2):\n",
    "    print(x)"
   ]
  },
  {
   "cell_type": "markdown",
   "metadata": {},
   "source": [
    "# Q5:"
   ]
  },
  {
   "cell_type": "markdown",
   "metadata": {},
   "source": [
    "Make a list of the multiples of 3 from 3 to 30. Use a for loop to\n",
    "print the numbers in your list."
   ]
  },
  {
   "cell_type": "code",
   "execution_count": 20,
   "metadata": {},
   "outputs": [
    {
     "name": "stdout",
     "output_type": "stream",
     "text": [
      "3\n",
      "6\n",
      "9\n",
      "12\n",
      "15\n",
      "18\n",
      "21\n",
      "24\n",
      "27\n",
      "30\n"
     ]
    }
   ],
   "source": [
    "my_num = [1,2,3,4,5,6,7,8,9,10]\n",
    "for i in my_num:\n",
    "    print(i * 3)"
   ]
  },
  {
   "cell_type": "markdown",
   "metadata": {},
   "source": [
    "# Q6:"
   ]
  },
  {
   "cell_type": "markdown",
   "metadata": {},
   "source": [
    "A number raised to the third power is called a cube. For example,\n",
    "the cube of 2 is written as 2**3 in Python. Make a list of the first 10 cubes (that\n",
    "is, the cube of each integer from 1 through 10), and use a for loop to print out\n",
    "the value of each cube"
   ]
  },
  {
   "cell_type": "code",
   "execution_count": 24,
   "metadata": {},
   "outputs": [
    {
     "name": "stdout",
     "output_type": "stream",
     "text": [
      "1\n",
      "8\n",
      "27\n",
      "64\n",
      "125\n",
      "216\n",
      "343\n",
      "512\n",
      "729\n",
      "1000\n"
     ]
    }
   ],
   "source": [
    "cube = [value **3 for value in range(1,11)]\n",
    "for cubes in cube:\n",
    "    print(cubes)"
   ]
  },
  {
   "cell_type": "code",
   "execution_count": null,
   "metadata": {},
   "outputs": [],
   "source": []
  },
  {
   "cell_type": "code",
   "execution_count": null,
   "metadata": {},
   "outputs": [],
   "source": []
  },
  {
   "cell_type": "markdown",
   "metadata": {},
   "source": [
    "# Q7:"
   ]
  },
  {
   "cell_type": "markdown",
   "metadata": {},
   "source": [
    "###### Make a python program that conatains your nine favourite dishes in a list called foods.\n",
    "\n",
    "###### Print the message, The first three items in the list are:. \n",
    "###### Then use a slice to print the first three items from that program’s list.\n",
    "\n",
    "###### Print the message, Three items from the middle of the list are:\n",
    "###### Use a slice to print three items from the middle of the list.\n",
    "\n",
    "###### Print the message, The last three items in the list are:\n",
    "###### Use a slice to print the last three items in the list."
   ]
  },
  {
   "cell_type": "code",
   "execution_count": 4,
   "metadata": {},
   "outputs": [
    {
     "name": "stdout",
     "output_type": "stream",
     "text": [
      "The First Three items in a list are: \n",
      "- Beef biryani\n",
      "- Maton\n",
      "- Achar goasht\n",
      "The Middle Three items in a list are: \n",
      "- Karai\n",
      "- Palao\n",
      "- chana chaat\n",
      "The last Three items in a list are: \n",
      "- Macroni\n",
      "- Nihari\n",
      "- Chiken tikka\n"
     ]
    }
   ],
   "source": [
    "foods = [\"Beef biryani\",\"Maton\",\"Achar goasht\",\"Karai\",\"Palao\",\"chana chaat\",\"Macroni\",\"Nihari\",\"Chiken tikka\"]\n",
    "print(\"The First Three items in a list are: \")\n",
    "for dish in foods[0:3]:\n",
    "    print(\"-\",dish)\n",
    "    \n",
    "print(\"The Middle Three items in a list are: \")\n",
    "for dish in foods[3:6]:\n",
    "    print(\"-\",dish)\n",
    "    \n",
    "print(\"The last Three items in a list are: \")\n",
    "for dish in foods[6:9]:\n",
    "    print(\"-\",dish)"
   ]
  },
  {
   "cell_type": "markdown",
   "metadata": {},
   "source": [
    "# Q8:"
   ]
  },
  {
   "cell_type": "markdown",
   "metadata": {},
   "source": [
    "### Start with your program from your last Question8.\n",
    "###### Make a copy of the list of foods, and call it friend_foods.\n",
    "###### Then, do the following:\n",
    "######    Add a new dish to the original list.\n",
    "######    Add a different dish to the list friend_foodss.\n",
    "######    Prove that you have two separate lists. \n",
    "###### Print the message, My favorite pizzas are: and then use a for loop to print the first list. \n",
    "###### Print the message,\n",
    "###### My friend’s favorite foods are:, and then use a for loop to print the second list.\n",
    "    \n",
    "##### NOTE: Make sure each new dish is stored in the appropriate list."
   ]
  },
  {
   "cell_type": "code",
   "execution_count": 1,
   "metadata": {},
   "outputs": [
    {
     "name": "stdout",
     "output_type": "stream",
     "text": [
      "My Favourite Foods are \n",
      "- Beef biryani\n",
      "- Maton\n",
      "- Achar goasht\n",
      "- Karai\n",
      "- Palao\n",
      "- chana chaat\n",
      "- Macroni\n",
      "- Nihari\n",
      "- Chiken tikka\n",
      "- Zinger\n",
      "My Friend Favourite foods are \n",
      "- Beef biryani\n",
      "- Maton\n",
      "- Achar goasht\n",
      "- Karai\n",
      "- Palao\n",
      "- chana chaat\n",
      "- Macroni\n",
      "- Nihari\n",
      "- Chiken tikka\n",
      "- Paratha roll\n"
     ]
    }
   ],
   "source": [
    "my_fav_food = [\"Beef biryani\",\"Maton\",\"Achar goasht\",\"Karai\",\"Palao\",\"chana chaat\",\"Macroni\",\"Nihari\",\"Chiken tikka\"]\n",
    "my_friend_fav_food= my_fav_food.copy()\n",
    "\n",
    "my_fav_food.append(\"Zinger\")\n",
    "print(\"My Favourite Foods are \")\n",
    "for dish in my_fav_food :\n",
    "    print(\"-\",dish)\n",
    "    \n",
    "my_friend_fav_food.append(\"Paratha roll\")\n",
    "print(\"My Friend Favourite foods are \")\n",
    "for dish in my_friend_fav_food:                           \n",
    "    print(\"-\",dish)\n"
   ]
  },
  {
   "cell_type": "markdown",
   "metadata": {},
   "source": [
    "# Q9:"
   ]
  },
  {
   "cell_type": "markdown",
   "metadata": {},
   "source": [
    "Take a user input from console line.Store it in a variable called Alien_color.\n",
    "\n",
    "If the alien’s color is red, print a statement that the player just earned 5 points for shooting the alien.\n",
    "\n",
    "If the alien’s color isn’t green, print a statement that the player just earned 10 points.\n",
    "\n",
    "If the alien's color isn't red or green , print a statment :, Alien is no more....."
   ]
  },
  {
   "cell_type": "code",
   "execution_count": 25,
   "metadata": {},
   "outputs": [
    {
     "name": "stdout",
     "output_type": "stream",
     "text": [
      "Enter a colour of alien: green\n",
      "you get 10 points\n"
     ]
    }
   ],
   "source": [
    "alien_colour = input(\"Enter a colour of alien: \").lower()\n",
    "if alien_colour==\"green\":\n",
    "    print(\"you get 10 points\")\n",
    "elif alien_colour==\"red\":\n",
    "    print(\"you get 5 points\")\n",
    "else:\n",
    "    print(\"no more alien\")"
   ]
  },
  {
   "cell_type": "markdown",
   "metadata": {},
   "source": [
    "# Q10:"
   ]
  },
  {
   "cell_type": "markdown",
   "metadata": {},
   "source": [
    "Write an if-elif-else chain that determines a person’s\n",
    "stage of life. Set a value for the variable age, and then:\n",
    "    \n",
    "•\t If the person is less than 2 years old, print a message that the person is a baby.\n",
    "\n",
    "•\t If the person is at least 2 years old but less than 4, print a message that the person is a toddler.\n",
    "\n",
    "•\t If the person is at least 4 years old but less than 13, print a message that the person is a kid.\n",
    "\n",
    "•\t If the person is at least 13 years old but less than 20, print a message that the person is a teenager.\n",
    "\n",
    "•\t If the person is at least 20 years old but less than 65, print a message that the person is an adult.\n",
    "\n",
    "•\t If the person is age 65 or older, print a message that the person is an elder."
   ]
  },
  {
   "cell_type": "code",
   "execution_count": 2,
   "metadata": {},
   "outputs": [
    {
     "name": "stdout",
     "output_type": "stream",
     "text": [
      "Enter a Age: 20\n",
      "You are Adult\n"
     ]
    }
   ],
   "source": [
    "p_age=int(input(\"Enter a Age: \"))\n",
    "if p_age < 2:\n",
    "    print(\"Person is a  baby\")    \n",
    "elif p_age >= 2 and p_age < 4:\n",
    "    print(\"Person is a toddler\")    \n",
    "elif p_age >= 4 and p_age < 13:\n",
    "    print(\"You are Kid\")    \n",
    "elif p_age >= 13 and p_age < 20:\n",
    "    print(\"You are teenager\")    \n",
    "elif p_age >= 20 and p_age < 65:\n",
    "    print(\"You are Adult\")\n",
    "\n",
    "else:\n",
    "    print(\"You are Elder !\")"
   ]
  },
  {
   "cell_type": "markdown",
   "metadata": {},
   "source": [
    "# Q11:"
   ]
  },
  {
   "cell_type": "markdown",
   "metadata": {},
   "source": [
    "Do the following to create a program that simulates how websites ensure that everyone has a unique username.\n",
    "\n",
    "•\t Make a list of five or more usernames called current_users.\n",
    "\n",
    "•\t Make another list of five usernames called new_users. \n",
    "Make sure one or two of the new usernames are also in the current_users list.\n",
    "\n",
    "•\t Loop through the new_users list to see if each new username has already been used. \n",
    "If it has, print a message that the person will need to enter a new username. \n",
    "If a username has not been used, print a message saying that the username is available.\n",
    "\n",
    "•\t Make sure your comparison is case insensitive. If 'John' has been used, 'JOHN' should not be accepted."
   ]
  },
  {
   "cell_type": "code",
   "execution_count": 5,
   "metadata": {},
   "outputs": [
    {
     "name": "stdout",
     "output_type": "stream",
     "text": [
      "Sumaiyya Avalible\n",
      "Saman Avalible\n",
      "Kashaf Avalible\n",
      "Fatima Avalible\n",
      "Alina Already taken,you will need to enter a new username.\n",
      "Faiza Avalible\n",
      "Maryam Avalible\n"
     ]
    }
   ],
   "source": [
    "current_users=[\"Saim\",\"Javeeria\",\"Bisma\",\"Saba\",\"Khalida\",\"Shameem\",\"Alina\"]\n",
    "\n",
    "new_users=[\"Sumaiyya\",\"Saman\",\"Kashaf\",\"Fatima\",\"Alina\",\"Faiza\",\"Maryam\"]\n",
    "\n",
    "current_list_lower=[c_u.lower() for c_u in current_users]\n",
    "for n_u in new_users :\n",
    "    if n_u.lower() in current_list_lower:\n",
    "        print(f\"{n_u} Already taken,you will need to enter a new username.\")\n",
    "    else:\n",
    "        print(n_u,\"Avalible\")\n"
   ]
  },
  {
   "cell_type": "markdown",
   "metadata": {},
   "source": [
    "# Q12:"
   ]
  },
  {
   "cell_type": "markdown",
   "metadata": {},
   "source": [
    "Use a dictionary to store information about a person you know.\n",
    "Store their first name, last name, age, and the city in which they live. \n",
    "You should have keys such as first_name, last_name, age, and city. \n",
    "Print each piece of information stored in your dictionary"
   ]
  },
  {
   "cell_type": "code",
   "execution_count": 12,
   "metadata": {},
   "outputs": [
    {
     "name": "stdout",
     "output_type": "stream",
     "text": [
      "first name:Seema\n",
      "last name:Noor\n",
      "age:21\n",
      "city:Karachi\n"
     ]
    }
   ],
   "source": [
    "person ={\"first_name\":\"Seema\",\n",
    "         \"last_name\":\"Noor\",\n",
    "          \"age\":\"21\",\n",
    "         \"city\":\"Karachi\"}\n",
    "\n",
    "print(\"first name:\" + person[\"first_name\"])\n",
    "print(\"last name:\"  + person[\"last_name\" ])\n",
    "print(\"age:\" + person[\"age\"])\n",
    "print(\"city:\" + person[\"city\"])"
   ]
  },
  {
   "cell_type": "markdown",
   "metadata": {},
   "source": [
    "# Q13:"
   ]
  },
  {
   "cell_type": "markdown",
   "metadata": {},
   "source": [
    "Starts with your last question 12 , loop through the dictionary’s keys and values.\n",
    "When you’re sure that your loop works, add five more Python terms to your\n",
    "dictionary . When you run your program again, these new words and meanings\n",
    "should automatically be included in the output."
   ]
  },
  {
   "cell_type": "code",
   "execution_count": 13,
   "metadata": {},
   "outputs": [
    {
     "name": "stdout",
     "output_type": "stream",
     "text": [
      "first_name : Seema\n",
      "last_name : Noor\n",
      "age : 21\n",
      "city : Karachi\n",
      "def : define\n",
      "pass : to pass\n",
      "if : any condition\n",
      "break : to stop a loop\n",
      "for : for loop\n"
     ]
    }
   ],
   "source": [
    "person[\"def\"]=\"define\"\n",
    "person[\"pass\"] = \"to pass\"\n",
    "person[\"if\"] = \"any condition\"\n",
    "person[\"break\"] = \"to stop a loop\"\n",
    "person[\"for\"] =\"for loop\"\n",
    "\n",
    "for key ,value in person.items():\n",
    "    print(key +\" : \" + value)\n",
    "\n"
   ]
  },
  {
   "cell_type": "markdown",
   "metadata": {},
   "source": [
    "# Q14:"
   ]
  },
  {
   "cell_type": "markdown",
   "metadata": {},
   "source": [
    "Make a dictionary containing three major rivers and the country\n",
    "each river runs through. One key-value pair might be 'nile': 'egypt'.\n",
    "    \n",
    "    \n",
    "•\t Use a loop to print a sentence about each river, such as The Nile runs\n",
    "through Egypt.\n",
    "\n",
    "NOTE: use upper case through keys and values."
   ]
  },
  {
   "cell_type": "code",
   "execution_count": 11,
   "metadata": {},
   "outputs": [
    {
     "name": "stdout",
     "output_type": "stream",
     "text": [
      "The JHELUM runs through PUNJAB\n",
      "The INDUS runs through SINDH\n",
      "The HANGOL runs through BALOCHISTAN\n"
     ]
    }
   ],
   "source": [
    "rivers = {'Jhelum' : 'Punjab', 'Indus' : 'Sindh' , 'Hangol' :'Balochistan'}\n",
    "for river, country in rivers.items():\n",
    "    print(\"The \" +river.upper()+ \" runs through \" +country.upper())"
   ]
  },
  {
   "cell_type": "markdown",
   "metadata": {},
   "source": [
    "# Q15:"
   ]
  },
  {
   "cell_type": "markdown",
   "metadata": {},
   "source": [
    "Make several dictionaries, where the name of each dictionary is the\n",
    "name of a pet. In each dictionary, include the kind of animal and the owner’s\n",
    "name. Store these dictionaries in a list called pets. Next, loop through your list\n",
    "and as you do print everything you know about each pet."
   ]
  },
  {
   "cell_type": "code",
   "execution_count": 10,
   "metadata": {},
   "outputs": [
    {
     "name": "stdout",
     "output_type": "stream",
     "text": [
      "Pets, Their kinds and Owner's Name\n",
      "- Kind(dog):  Animal\n",
      "- Owner:  John David\n",
      "\n",
      "- Kind(Pigeon):  Bird\n",
      "- Owner:  Javeeria\n",
      "\n",
      "- Kind(Horse):  Animal\n",
      "- Owner:  Bisma\n",
      "\n",
      "- Kind(Turtle):  Reptile\n",
      "- Owner:  Maryam\n",
      "\n",
      "- Kinf(Camel):  Mammals\n",
      "- Owner:  Komal\n",
      "\n"
     ]
    }
   ],
   "source": [
    "print(\"Pets, Their kinds and Owner's Name\")\n",
    "\n",
    "dog={\n",
    "    \"Kind(dog)\":\"Animal\",\n",
    "    \"Owner\":\"John David\"\n",
    "}\n",
    "Pigeons={\n",
    "    \"Kind(Pigeon)\":\"Bird\",\n",
    "    \"Owner\":\"Javeeria\"\n",
    "}\n",
    "Horse={\n",
    "     \"Kind(Horse)\":\"Animal\",\n",
    "    \"Owner\":\"Bisma\"\n",
    "}\n",
    "Turtle={\n",
    "    \"Kind(Turtle)\":\"Reptile\",\n",
    "    \"Owner\":\"Maryam\"\n",
    "}\n",
    "camel={\n",
    "    \"Kinf(Camel)\":\"Mammals\",\n",
    "    \"Owner\":\"Komal\"\n",
    "}\n",
    "comp_list = [dog,Pigeons,Horse,Turtle,camel]\n",
    "\n",
    "\n",
    "for i in comp_list:\n",
    "    for key, value in i.items():\n",
    "        print(\"- \"+ key + \":  \" + value)\n",
    "    print()"
   ]
  },
  {
   "cell_type": "code",
   "execution_count": null,
   "metadata": {},
   "outputs": [],
   "source": []
  }
 ],
 "metadata": {
  "kernelspec": {
   "display_name": "Python 3",
   "language": "python",
   "name": "python3"
  },
  "language_info": {
   "codemirror_mode": {
    "name": "ipython",
    "version": 3
   },
   "file_extension": ".py",
   "mimetype": "text/x-python",
   "name": "python",
   "nbconvert_exporter": "python",
   "pygments_lexer": "ipython3",
   "version": "3.7.3"
  }
 },
 "nbformat": 4,
 "nbformat_minor": 2
}
